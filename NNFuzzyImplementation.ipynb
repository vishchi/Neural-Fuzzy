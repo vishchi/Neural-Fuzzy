{
 "cells": [
  {
   "cell_type": "code",
   "execution_count": 1,
   "metadata": {},
   "outputs": [],
   "source": [
    "import numpy as np\n",
    "import pandas as pd\n",
    "from sklearn.tree import DecisionTreeClassifier\n",
    "\n",
    "#Create a dataframe from the cars dataset / csv file\n",
    "df = pd.read_csv(\"cars_feat.csv\")\n"
   ]
  },
  {
   "cell_type": "code",
   "execution_count": 2,
   "metadata": {},
   "outputs": [
    {
     "name": "stdout",
     "output_type": "stream",
     "text": [
      "   Car no.   mpg  cyl   disp   hp  drat     wt   qsec  vs  am  gear  carb\n",
      "0        1  21.0    6  160.0  110  3.90  2.620  16.46   0   1     4     4\n",
      "1        2  21.0    6  160.0  110  3.90  2.875  17.02   0   1     4     4\n",
      "2        3  22.8    4  108.0   93  3.85  2.320  18.61   1   1     4     1\n",
      "3        4  21.4    6  258.0  110  3.08  3.215  19.44   1   0     3     1\n",
      "4        5  18.7    8  360.0  175  3.15  3.440  17.02   0   0     3     2\n"
     ]
    }
   ],
   "source": [
    "#print the first 5 rows of the data set\n",
    "print(df.head())\n",
    "\n",
    "# Split your data into the independent variable(s) and dependent variable\n",
    "X_train = df.loc[:,'disp':'vs'] #Gets all the rows in the dataset from column 'disp' to column 'vs'\n",
    "Y_train = df.loc[:,'gear'] #Gets all of the rows in the dataset from column 'carb'\n"
   ]
  },
  {
   "cell_type": "code",
   "execution_count": 3,
   "metadata": {},
   "outputs": [
    {
     "data": {
      "text/plain": [
       "DecisionTreeClassifier(ccp_alpha=0.0, class_weight=None, criterion='gini',\n",
       "                       max_depth=None, max_features=None, max_leaf_nodes=2,\n",
       "                       min_impurity_decrease=0.0, min_impurity_split=None,\n",
       "                       min_samples_leaf=1, min_samples_split=2,\n",
       "                       min_weight_fraction_leaf=0.0, presort='deprecated',\n",
       "                       random_state=0, splitter='best')"
      ]
     },
     "execution_count": 3,
     "metadata": {},
     "output_type": "execute_result"
    }
   ],
   "source": [
    "tree = DecisionTreeClassifier(max_leaf_nodes=2, random_state=0)\n",
    "\n",
    "# Train the model\n",
    "tree.fit(X_train, Y_train)"
   ]
  },
  {
   "cell_type": "code",
   "execution_count": 4,
   "metadata": {},
   "outputs": [
    {
     "name": "stdout",
     "output_type": "stream",
     "text": [
      "Printing the prediction: \n",
      "[3]\n"
     ]
    }
   ],
   "source": [
    "prediction = tree.predict([[258,110,3.08,2.32,18.61,1]])\n",
    "\n",
    "#Print the prediction\n",
    "print('Printing the prediction: ')\n",
    "print(prediction)"
   ]
  }
 ],
 "metadata": {
  "kernelspec": {
   "display_name": "Python 3",
   "language": "python",
   "name": "python3"
  },
  "language_info": {
   "codemirror_mode": {
    "name": "ipython",
    "version": 3
   },
   "file_extension": ".py",
   "mimetype": "text/x-python",
   "name": "python",
   "nbconvert_exporter": "python",
   "pygments_lexer": "ipython3",
   "version": "3.7.6"
  }
 },
 "nbformat": 4,
 "nbformat_minor": 4
}
